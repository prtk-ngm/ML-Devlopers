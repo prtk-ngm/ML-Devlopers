{
 "cells": [
  {
   "cell_type": "markdown",
   "metadata": {
    "colab_type": "text",
    "id": "2VahYDZMxDiX"
   },
   "source": [
    "# Yelp reviews classification with advanced ML"
   ]
  },
  {
   "cell_type": "markdown",
   "metadata": {
    "colab_type": "text",
    "id": "riL7391UxDia"
   },
   "source": [
    "## 1: Reading in the Yelp Reviews"
   ]
  },
  {
   "cell_type": "code",
   "execution_count": 1,
   "metadata": {
    "colab": {},
    "colab_type": "code",
    "id": "wu4XinFdxDib"
   },
   "outputs": [],
   "source": [
    "import warnings\n",
    "warnings.filterwarnings('ignore')"
   ]
  },
  {
   "cell_type": "code",
   "execution_count": 3,
   "metadata": {
    "colab": {},
    "colab_type": "code",
    "id": "JnY0o1YdxDif"
   },
   "outputs": [
    {
     "ename": "ModuleNotFoundError",
     "evalue": "No module named 'nltk'",
     "output_type": "error",
     "traceback": [
      "\u001b[0;31m---------------------------------------------------------------------------\u001b[0m",
      "\u001b[0;31mModuleNotFoundError\u001b[0m                       Traceback (most recent call last)",
      "\u001b[0;32m<ipython-input-3-97d2769bd97a>\u001b[0m in \u001b[0;36m<module>\u001b[0;34m\u001b[0m\n\u001b[1;32m      7\u001b[0m \u001b[0;32mfrom\u001b[0m \u001b[0msklearn\u001b[0m\u001b[0;34m.\u001b[0m\u001b[0mlinear_model\u001b[0m \u001b[0;32mimport\u001b[0m \u001b[0mLogisticRegression\u001b[0m\u001b[0;34m\u001b[0m\u001b[0;34m\u001b[0m\u001b[0m\n\u001b[1;32m      8\u001b[0m \u001b[0;32mfrom\u001b[0m \u001b[0msklearn\u001b[0m \u001b[0;32mimport\u001b[0m \u001b[0mmetrics\u001b[0m\u001b[0;34m\u001b[0m\u001b[0;34m\u001b[0m\u001b[0m\n\u001b[0;32m----> 9\u001b[0;31m \u001b[0;32mfrom\u001b[0m \u001b[0mnltk\u001b[0m\u001b[0;34m.\u001b[0m\u001b[0mstem\u001b[0m\u001b[0;34m.\u001b[0m\u001b[0msnowball\u001b[0m \u001b[0;32mimport\u001b[0m \u001b[0mSnowballStemmer\u001b[0m\u001b[0;34m\u001b[0m\u001b[0;34m\u001b[0m\u001b[0m\n\u001b[0m\u001b[1;32m     10\u001b[0m \u001b[0mget_ipython\u001b[0m\u001b[0;34m(\u001b[0m\u001b[0;34m)\u001b[0m\u001b[0;34m.\u001b[0m\u001b[0mrun_line_magic\u001b[0m\u001b[0;34m(\u001b[0m\u001b[0;34m'matplotlib'\u001b[0m\u001b[0;34m,\u001b[0m \u001b[0;34m'inline'\u001b[0m\u001b[0;34m)\u001b[0m\u001b[0;34m\u001b[0m\u001b[0;34m\u001b[0m\u001b[0m\n",
      "\u001b[0;31mModuleNotFoundError\u001b[0m: No module named 'nltk'"
     ]
    }
   ],
   "source": [
    "import pandas as pd\n",
    "import numpy as np\n",
    "import scipy as sp\n",
    "from sklearn.model_selection import train_test_split\n",
    "from sklearn.feature_extraction.text import CountVectorizer, TfidfVectorizer\n",
    "from sklearn.naive_bayes import MultinomialNB\n",
    "from sklearn.linear_model import LogisticRegression\n",
    "from sklearn import metrics\n",
    "from nltk.stem.snowball import SnowballStemmer\n",
    "%matplotlib inline"
   ]
  },
  {
   "cell_type": "code",
   "execution_count": 2,
   "metadata": {
    "colab": {
     "base_uri": "https://localhost:8080/",
     "height": 34
    },
    "colab_type": "code",
    "executionInfo": {
     "elapsed": 1674,
     "status": "ok",
     "timestamp": 1566987228623,
     "user": {
      "displayName": "Sayan Dey",
      "photoUrl": "https://lh3.googleusercontent.com/a-/AAuE7mC4OsyKqeOJtjScxaIFMB9Yt7ywVtnbSsla3v0-NQ=s64",
      "userId": "03603580465490055794"
     },
     "user_tz": -330
    },
    "id": "LPNmHGWrxDii",
    "outputId": "6cf6fb75-1656-4f79-e602-42e53fa1c580"
   },
   "outputs": [],
   "source": [
    "yelp = pd.read_csv('data/yelp.csv')"
   ]
  },
  {
   "cell_type": "code",
   "execution_count": 4,
   "metadata": {
    "colab": {
     "base_uri": "https://localhost:8080/",
     "height": 201
    },
    "colab_type": "code",
    "executionInfo": {
     "elapsed": 1048,
     "status": "ok",
     "timestamp": 1566987229288,
     "user": {
      "displayName": "Sayan Dey",
      "photoUrl": "https://lh3.googleusercontent.com/a-/AAuE7mC4OsyKqeOJtjScxaIFMB9Yt7ywVtnbSsla3v0-NQ=s64",
      "userId": "03603580465490055794"
     },
     "user_tz": -330
    },
    "id": "nC5iwlKGFtM3",
    "outputId": "8d98e81a-f9d5-41ee-bb08-5a4c9f31d362"
   },
   "outputs": [
    {
     "data": {
      "text/html": [
       "<div>\n",
       "<style scoped>\n",
       "    .dataframe tbody tr th:only-of-type {\n",
       "        vertical-align: middle;\n",
       "    }\n",
       "\n",
       "    .dataframe tbody tr th {\n",
       "        vertical-align: top;\n",
       "    }\n",
       "\n",
       "    .dataframe thead th {\n",
       "        text-align: right;\n",
       "    }\n",
       "</style>\n",
       "<table border=\"1\" class=\"dataframe\">\n",
       "  <thead>\n",
       "    <tr style=\"text-align: right;\">\n",
       "      <th></th>\n",
       "      <th>business_id</th>\n",
       "      <th>date</th>\n",
       "      <th>review_id</th>\n",
       "      <th>stars</th>\n",
       "      <th>text</th>\n",
       "      <th>type</th>\n",
       "      <th>user_id</th>\n",
       "      <th>cool</th>\n",
       "      <th>useful</th>\n",
       "      <th>funny</th>\n",
       "    </tr>\n",
       "  </thead>\n",
       "  <tbody>\n",
       "    <tr>\n",
       "      <th>0</th>\n",
       "      <td>9yKzy9PApeiPPOUJEtnvkg</td>\n",
       "      <td>2011-01-26</td>\n",
       "      <td>fWKvX83p0-ka4JS3dc6E5A</td>\n",
       "      <td>5</td>\n",
       "      <td>My wife took me here on my birthday for breakf...</td>\n",
       "      <td>review</td>\n",
       "      <td>rLtl8ZkDX5vH5nAx9C3q5Q</td>\n",
       "      <td>2</td>\n",
       "      <td>5</td>\n",
       "      <td>0</td>\n",
       "    </tr>\n",
       "    <tr>\n",
       "      <th>1</th>\n",
       "      <td>ZRJwVLyzEJq1VAihDhYiow</td>\n",
       "      <td>2011-07-27</td>\n",
       "      <td>IjZ33sJrzXqU-0X6U8NwyA</td>\n",
       "      <td>5</td>\n",
       "      <td>I have no idea why some people give bad review...</td>\n",
       "      <td>review</td>\n",
       "      <td>0a2KyEL0d3Yb1V6aivbIuQ</td>\n",
       "      <td>0</td>\n",
       "      <td>0</td>\n",
       "      <td>0</td>\n",
       "    </tr>\n",
       "    <tr>\n",
       "      <th>2</th>\n",
       "      <td>6oRAC4uyJCsJl1X0WZpVSA</td>\n",
       "      <td>2012-06-14</td>\n",
       "      <td>IESLBzqUCLdSzSqm0eCSxQ</td>\n",
       "      <td>4</td>\n",
       "      <td>love the gyro plate. Rice is so good and I als...</td>\n",
       "      <td>review</td>\n",
       "      <td>0hT2KtfLiobPvh6cDC8JQg</td>\n",
       "      <td>0</td>\n",
       "      <td>1</td>\n",
       "      <td>0</td>\n",
       "    </tr>\n",
       "    <tr>\n",
       "      <th>3</th>\n",
       "      <td>_1QQZuf4zZOyFCvXc0o6Vg</td>\n",
       "      <td>2010-05-27</td>\n",
       "      <td>G-WvGaISbqqaMHlNnByodA</td>\n",
       "      <td>5</td>\n",
       "      <td>Rosie, Dakota, and I LOVE Chaparral Dog Park!!...</td>\n",
       "      <td>review</td>\n",
       "      <td>uZetl9T0NcROGOyFfughhg</td>\n",
       "      <td>1</td>\n",
       "      <td>2</td>\n",
       "      <td>0</td>\n",
       "    </tr>\n",
       "    <tr>\n",
       "      <th>4</th>\n",
       "      <td>6ozycU1RpktNG2-1BroVtw</td>\n",
       "      <td>2012-01-05</td>\n",
       "      <td>1uJFq2r5QfJG_6ExMRCaGw</td>\n",
       "      <td>5</td>\n",
       "      <td>General Manager Scott Petello is a good egg!!!...</td>\n",
       "      <td>review</td>\n",
       "      <td>vYmM4KTsC8ZfQBg-j5MWkw</td>\n",
       "      <td>0</td>\n",
       "      <td>0</td>\n",
       "      <td>0</td>\n",
       "    </tr>\n",
       "  </tbody>\n",
       "</table>\n",
       "</div>"
      ],
      "text/plain": [
       "              business_id        date               review_id  stars  \\\n",
       "0  9yKzy9PApeiPPOUJEtnvkg  2011-01-26  fWKvX83p0-ka4JS3dc6E5A      5   \n",
       "1  ZRJwVLyzEJq1VAihDhYiow  2011-07-27  IjZ33sJrzXqU-0X6U8NwyA      5   \n",
       "2  6oRAC4uyJCsJl1X0WZpVSA  2012-06-14  IESLBzqUCLdSzSqm0eCSxQ      4   \n",
       "3  _1QQZuf4zZOyFCvXc0o6Vg  2010-05-27  G-WvGaISbqqaMHlNnByodA      5   \n",
       "4  6ozycU1RpktNG2-1BroVtw  2012-01-05  1uJFq2r5QfJG_6ExMRCaGw      5   \n",
       "\n",
       "                                                text    type  \\\n",
       "0  My wife took me here on my birthday for breakf...  review   \n",
       "1  I have no idea why some people give bad review...  review   \n",
       "2  love the gyro plate. Rice is so good and I als...  review   \n",
       "3  Rosie, Dakota, and I LOVE Chaparral Dog Park!!...  review   \n",
       "4  General Manager Scott Petello is a good egg!!!...  review   \n",
       "\n",
       "                  user_id  cool  useful  funny  \n",
       "0  rLtl8ZkDX5vH5nAx9C3q5Q     2       5      0  \n",
       "1  0a2KyEL0d3Yb1V6aivbIuQ     0       0      0  \n",
       "2  0hT2KtfLiobPvh6cDC8JQg     0       1      0  \n",
       "3  uZetl9T0NcROGOyFfughhg     1       2      0  \n",
       "4  vYmM4KTsC8ZfQBg-j5MWkw     0       0      0  "
      ]
     },
     "execution_count": 4,
     "metadata": {},
     "output_type": "execute_result"
    }
   ],
   "source": [
    "yelp.head()"
   ]
  },
  {
   "cell_type": "code",
   "execution_count": 4,
   "metadata": {
    "colab": {},
    "colab_type": "code",
    "id": "fyXtqnRYxDim"
   },
   "outputs": [],
   "source": [
    "# create a new DataFrame that only contains the 5-star and 1-star reviews\n",
    "yelp_best_worst = yelp\n",
    "#yelp_best_worst = yelp[(yelp.stars==5) | (yelp.stars==1)]"
   ]
  },
  {
   "cell_type": "code",
   "execution_count": 5,
   "metadata": {
    "colab": {},
    "colab_type": "code",
    "id": "aAA5meiwxDip"
   },
   "outputs": [],
   "source": [
    "# define X and y\n",
    "X = yelp_best_worst.text\n",
    "y = yelp_best_worst.stars"
   ]
  },
  {
   "cell_type": "code",
   "execution_count": 7,
   "metadata": {
    "colab": {},
    "colab_type": "code",
    "id": "NDDsBs3qxDis"
   },
   "outputs": [],
   "source": [
    "# split the new DataFrame into training and testing sets\n",
    "X_train, X_test, y_train, y_test = train_test_split(X, y, random_state=1)"
   ]
  },
  {
   "cell_type": "markdown",
   "metadata": {
    "colab_type": "text",
    "id": "CYUBPcjGxDiv"
   },
   "source": [
    "## 2: Tokenization"
   ]
  },
  {
   "cell_type": "markdown",
   "metadata": {
    "colab_type": "text",
    "id": "UHTm9i_UxDiw"
   },
   "source": [
    "- **What:** Separate text into units such as sentences or words\n",
    "- **Why:** Gives structure to previously unstructured text\n",
    "- **Notes:** Relatively easy with English language text, not easy with some languages"
   ]
  },
  {
   "cell_type": "code",
   "execution_count": 8,
   "metadata": {
    "colab": {},
    "colab_type": "code",
    "id": "JxnGSaPdxDiz"
   },
   "outputs": [],
   "source": [
    "# use CountVectorizer to create document-term matrices from X_train and X_test\n",
    "vect = CountVectorizer()"
   ]
  },
  {
   "cell_type": "code",
   "execution_count": 9,
   "metadata": {
    "colab": {},
    "colab_type": "code",
    "id": "umVBNzwfxDi2"
   },
   "outputs": [],
   "source": [
    "X_train_dtm = vect.fit_transform(X_train)"
   ]
  },
  {
   "cell_type": "code",
   "execution_count": 10,
   "metadata": {
    "colab": {},
    "colab_type": "code",
    "id": "PE2Msbt4xDi6"
   },
   "outputs": [],
   "source": [
    "X_test_dtm = vect.transform(X_test)"
   ]
  },
  {
   "cell_type": "code",
   "execution_count": 11,
   "metadata": {},
   "outputs": [
    {
     "data": {
      "text/plain": [
       "(7500,)"
      ]
     },
     "execution_count": 11,
     "metadata": {},
     "output_type": "execute_result"
    }
   ],
   "source": [
    "X_train.shape"
   ]
  },
  {
   "cell_type": "code",
   "execution_count": 12,
   "metadata": {},
   "outputs": [
    {
     "data": {
      "text/plain": [
       "(2500,)"
      ]
     },
     "execution_count": 12,
     "metadata": {},
     "output_type": "execute_result"
    }
   ],
   "source": [
    "X_test.shape"
   ]
  },
  {
   "cell_type": "code",
   "execution_count": 13,
   "metadata": {
    "colab": {
     "base_uri": "https://localhost:8080/",
     "height": 34
    },
    "colab_type": "code",
    "executionInfo": {
     "elapsed": 1185,
     "status": "ok",
     "timestamp": 1566987505822,
     "user": {
      "displayName": "Sayan Dey",
      "photoUrl": "https://lh3.googleusercontent.com/a-/AAuE7mC4OsyKqeOJtjScxaIFMB9Yt7ywVtnbSsla3v0-NQ=s64",
      "userId": "03603580465490055794"
     },
     "user_tz": -330
    },
    "id": "Xa75x3VQxDi_",
    "outputId": "aab857cf-eecc-456a-bb7b-254741f89d63"
   },
   "outputs": [
    {
     "data": {
      "text/plain": [
       "(7500, 25797)"
      ]
     },
     "execution_count": 13,
     "metadata": {},
     "output_type": "execute_result"
    }
   ],
   "source": [
    "# rows are documents, columns are terms (aka \"tokens\" or \"features\")\n",
    "X_train_dtm.shape"
   ]
  },
  {
   "cell_type": "code",
   "execution_count": 14,
   "metadata": {},
   "outputs": [
    {
     "data": {
      "text/plain": [
       "(2500, 25797)"
      ]
     },
     "execution_count": 14,
     "metadata": {},
     "output_type": "execute_result"
    }
   ],
   "source": [
    "X_test_dtm.shape"
   ]
  },
  {
   "cell_type": "code",
   "execution_count": 15,
   "metadata": {
    "colab": {
     "base_uri": "https://localhost:8080/",
     "height": 54
    },
    "colab_type": "code",
    "executionInfo": {
     "elapsed": 1740,
     "status": "ok",
     "timestamp": 1566987542183,
     "user": {
      "displayName": "Sayan Dey",
      "photoUrl": "https://lh3.googleusercontent.com/a-/AAuE7mC4OsyKqeOJtjScxaIFMB9Yt7ywVtnbSsla3v0-NQ=s64",
      "userId": "03603580465490055794"
     },
     "user_tz": -330
    },
    "id": "UnZR2MHZxDjE",
    "outputId": "93163858-0fa1-4350-d4a9-8cdd01ef164a"
   },
   "outputs": [
    {
     "name": "stdout",
     "output_type": "stream",
     "text": [
      "['yums', 'yumtastic', 'yumzoid', 'yung', 'yup', 'yupha', 'yuppie', 'yuppies', 'yuppified', 'yuppy', 'yur', 'yuri', 'yusef', 'yusefs', 'yuukk', 'yuuuummmmae', 'yuuuuummmmmyyy', 'yuxiang', 'yuyuyummy', 'yuzu', 'yyyeeaahhhh', 'yyyyy', 'z11', 'za', 'zabba', 'zach', 'zag', 'zagat', 'zam', 'zanella', 'zankou', 'zanos', 'zap', 'zapped', 'zappos', 'zatsiki', 'zealand', 'zealous', 'zebra', 'zen', 'zero', 'zest', 'zesty', 'zexperience', 'zha', 'zhou', 'zia', 'zichini', 'zig', 'zilch', 'zillion', 'zin', 'zinburger', 'zinburgergeist', 'zinc', 'zinfandel', 'zing', 'zip', 'zipcar', 'zipper', 'zippers', 'zipps', 'zippy', 'ziti', 'zoe', 'zoey', 'zoftik', 'zola', 'zombie', 'zombies', 'zone', 'zoned', 'zoners', 'zones', 'zoning', 'zoo', 'zoom', 'zoomed', 'zoos', 'zoyo', 'zpizza', 'zu', 'zucca', 'zucchini', 'zuccini', 'zuch', 'zuchinni', 'zuma', 'zumba', 'zupa', 'zur', 'zuzu', 'zuzus', 'zweigel', 'zwiebel', 'zy', 'zzed', 'zzzzzzzzzzzzzzzzz', 'école', 'òc']\n"
     ]
    }
   ],
   "source": [
    "# last 50 features\n",
    "print (vect.get_feature_names()[-100:])"
   ]
  },
  {
   "cell_type": "code",
   "execution_count": 16,
   "metadata": {
    "colab": {
     "base_uri": "https://localhost:8080/",
     "height": 1000
    },
    "colab_type": "code",
    "executionInfo": {
     "elapsed": 1355,
     "status": "ok",
     "timestamp": 1566987560844,
     "user": {
      "displayName": "Sayan Dey",
      "photoUrl": "https://lh3.googleusercontent.com/a-/AAuE7mC4OsyKqeOJtjScxaIFMB9Yt7ywVtnbSsla3v0-NQ=s64",
      "userId": "03603580465490055794"
     },
     "user_tz": -330
    },
    "id": "dgdynOcgxDjH",
    "outputId": "b889b322-6eb6-4f21-e1e0-fd04a679dad8",
    "scrolled": false
   },
   "outputs": [
    {
     "data": {
      "text/html": [
       "<div>\n",
       "<style scoped>\n",
       "    .dataframe tbody tr th:only-of-type {\n",
       "        vertical-align: middle;\n",
       "    }\n",
       "\n",
       "    .dataframe tbody tr th {\n",
       "        vertical-align: top;\n",
       "    }\n",
       "\n",
       "    .dataframe thead th {\n",
       "        text-align: right;\n",
       "    }\n",
       "</style>\n",
       "<table border=\"1\" class=\"dataframe\">\n",
       "  <thead>\n",
       "    <tr style=\"text-align: right;\">\n",
       "      <th></th>\n",
       "      <th>00</th>\n",
       "      <th>000</th>\n",
       "      <th>007</th>\n",
       "      <th>00a</th>\n",
       "      <th>00am</th>\n",
       "      <th>00pm</th>\n",
       "      <th>01</th>\n",
       "      <th>02</th>\n",
       "      <th>04</th>\n",
       "      <th>05</th>\n",
       "      <th>...</th>\n",
       "      <th>zur</th>\n",
       "      <th>zuzu</th>\n",
       "      <th>zuzus</th>\n",
       "      <th>zweigel</th>\n",
       "      <th>zwiebel</th>\n",
       "      <th>zy</th>\n",
       "      <th>zzed</th>\n",
       "      <th>zzzzzzzzzzzzzzzzz</th>\n",
       "      <th>école</th>\n",
       "      <th>òc</th>\n",
       "    </tr>\n",
       "  </thead>\n",
       "  <tbody>\n",
       "    <tr>\n",
       "      <th>0</th>\n",
       "      <td>0</td>\n",
       "      <td>0</td>\n",
       "      <td>0</td>\n",
       "      <td>0</td>\n",
       "      <td>0</td>\n",
       "      <td>0</td>\n",
       "      <td>0</td>\n",
       "      <td>0</td>\n",
       "      <td>0</td>\n",
       "      <td>0</td>\n",
       "      <td>...</td>\n",
       "      <td>0</td>\n",
       "      <td>0</td>\n",
       "      <td>0</td>\n",
       "      <td>0</td>\n",
       "      <td>0</td>\n",
       "      <td>0</td>\n",
       "      <td>0</td>\n",
       "      <td>0</td>\n",
       "      <td>0</td>\n",
       "      <td>0</td>\n",
       "    </tr>\n",
       "    <tr>\n",
       "      <th>1</th>\n",
       "      <td>0</td>\n",
       "      <td>0</td>\n",
       "      <td>0</td>\n",
       "      <td>0</td>\n",
       "      <td>0</td>\n",
       "      <td>0</td>\n",
       "      <td>0</td>\n",
       "      <td>0</td>\n",
       "      <td>0</td>\n",
       "      <td>0</td>\n",
       "      <td>...</td>\n",
       "      <td>0</td>\n",
       "      <td>0</td>\n",
       "      <td>0</td>\n",
       "      <td>0</td>\n",
       "      <td>0</td>\n",
       "      <td>0</td>\n",
       "      <td>0</td>\n",
       "      <td>0</td>\n",
       "      <td>0</td>\n",
       "      <td>0</td>\n",
       "    </tr>\n",
       "    <tr>\n",
       "      <th>2</th>\n",
       "      <td>0</td>\n",
       "      <td>0</td>\n",
       "      <td>0</td>\n",
       "      <td>0</td>\n",
       "      <td>0</td>\n",
       "      <td>0</td>\n",
       "      <td>0</td>\n",
       "      <td>0</td>\n",
       "      <td>0</td>\n",
       "      <td>0</td>\n",
       "      <td>...</td>\n",
       "      <td>0</td>\n",
       "      <td>0</td>\n",
       "      <td>0</td>\n",
       "      <td>0</td>\n",
       "      <td>0</td>\n",
       "      <td>0</td>\n",
       "      <td>0</td>\n",
       "      <td>0</td>\n",
       "      <td>0</td>\n",
       "      <td>0</td>\n",
       "    </tr>\n",
       "    <tr>\n",
       "      <th>3</th>\n",
       "      <td>0</td>\n",
       "      <td>0</td>\n",
       "      <td>0</td>\n",
       "      <td>0</td>\n",
       "      <td>0</td>\n",
       "      <td>0</td>\n",
       "      <td>0</td>\n",
       "      <td>0</td>\n",
       "      <td>0</td>\n",
       "      <td>0</td>\n",
       "      <td>...</td>\n",
       "      <td>0</td>\n",
       "      <td>0</td>\n",
       "      <td>0</td>\n",
       "      <td>0</td>\n",
       "      <td>0</td>\n",
       "      <td>0</td>\n",
       "      <td>0</td>\n",
       "      <td>0</td>\n",
       "      <td>0</td>\n",
       "      <td>0</td>\n",
       "    </tr>\n",
       "    <tr>\n",
       "      <th>4</th>\n",
       "      <td>0</td>\n",
       "      <td>0</td>\n",
       "      <td>0</td>\n",
       "      <td>0</td>\n",
       "      <td>0</td>\n",
       "      <td>0</td>\n",
       "      <td>0</td>\n",
       "      <td>0</td>\n",
       "      <td>0</td>\n",
       "      <td>0</td>\n",
       "      <td>...</td>\n",
       "      <td>0</td>\n",
       "      <td>0</td>\n",
       "      <td>0</td>\n",
       "      <td>0</td>\n",
       "      <td>0</td>\n",
       "      <td>0</td>\n",
       "      <td>0</td>\n",
       "      <td>0</td>\n",
       "      <td>0</td>\n",
       "      <td>0</td>\n",
       "    </tr>\n",
       "  </tbody>\n",
       "</table>\n",
       "<p>5 rows × 25797 columns</p>\n",
       "</div>"
      ],
      "text/plain": [
       "   00  000  007  00a  00am  00pm  01  02  04  05  ...  zur  zuzu  zuzus  \\\n",
       "0   0    0    0    0     0     0   0   0   0   0  ...    0     0      0   \n",
       "1   0    0    0    0     0     0   0   0   0   0  ...    0     0      0   \n",
       "2   0    0    0    0     0     0   0   0   0   0  ...    0     0      0   \n",
       "3   0    0    0    0     0     0   0   0   0   0  ...    0     0      0   \n",
       "4   0    0    0    0     0     0   0   0   0   0  ...    0     0      0   \n",
       "\n",
       "   zweigel  zwiebel  zy  zzed  zzzzzzzzzzzzzzzzz  école  òc  \n",
       "0        0        0   0     0                  0      0   0  \n",
       "1        0        0   0     0                  0      0   0  \n",
       "2        0        0   0     0                  0      0   0  \n",
       "3        0        0   0     0                  0      0   0  \n",
       "4        0        0   0     0                  0      0   0  \n",
       "\n",
       "[5 rows x 25797 columns]"
      ]
     },
     "execution_count": 16,
     "metadata": {},
     "output_type": "execute_result"
    }
   ],
   "source": [
    "temp = pd.DataFrame(X_train_dtm.toarray())\n",
    "temp.columns = vect.get_feature_names()\n",
    "temp.head()"
   ]
  },
  {
   "cell_type": "markdown",
   "metadata": {
    "colab_type": "text",
    "id": "rO0C1x4mxDjK"
   },
   "source": [
    "- **lowercase:** boolean, True by default\n",
    "- Convert all characters to lowercase before tokenizing."
   ]
  },
  {
   "cell_type": "code",
   "execution_count": 17,
   "metadata": {
    "colab": {
     "base_uri": "https://localhost:8080/",
     "height": 34
    },
    "colab_type": "code",
    "executionInfo": {
     "elapsed": 1348,
     "status": "ok",
     "timestamp": 1566987650674,
     "user": {
      "displayName": "Sayan Dey",
      "photoUrl": "https://lh3.googleusercontent.com/a-/AAuE7mC4OsyKqeOJtjScxaIFMB9Yt7ywVtnbSsla3v0-NQ=s64",
      "userId": "03603580465490055794"
     },
     "user_tz": -330
    },
    "id": "MrZHwM4WxDjL",
    "outputId": "931f98f9-b77a-493e-d712-54fd0aa2f1da"
   },
   "outputs": [
    {
     "data": {
      "text/plain": [
       "(7500, 32420)"
      ]
     },
     "execution_count": 17,
     "metadata": {},
     "output_type": "execute_result"
    }
   ],
   "source": [
    "# don't convert to lowercase\n",
    "vect = CountVectorizer(lowercase=False)\n",
    "X_train_dtm = vect.fit_transform(X_train)\n",
    "X_train_dtm.shape"
   ]
  },
  {
   "cell_type": "markdown",
   "metadata": {
    "colab_type": "text",
    "id": "c4vb1RKJxDjP"
   },
   "source": [
    "- **ngram_range:** tuple (min_n, max_n)\n",
    "- The lower and upper boundary of the range of n-values for different n-grams to be extracted. All values of n such that min_n <= n <= max_n will be used."
   ]
  },
  {
   "cell_type": "code",
   "execution_count": 18,
   "metadata": {
    "colab": {
     "base_uri": "https://localhost:8080/",
     "height": 34
    },
    "colab_type": "code",
    "executionInfo": {
     "elapsed": 4623,
     "status": "ok",
     "timestamp": 1566987927162,
     "user": {
      "displayName": "Sayan Dey",
      "photoUrl": "https://lh3.googleusercontent.com/a-/AAuE7mC4OsyKqeOJtjScxaIFMB9Yt7ywVtnbSsla3v0-NQ=s64",
      "userId": "03603580465490055794"
     },
     "user_tz": -330
    },
    "id": "zoge0PJGxDjP",
    "outputId": "dbf04803-e438-4c1f-d5d7-0950146f2f4b"
   },
   "outputs": [
    {
     "data": {
      "text/plain": [
       "(7500, 1025755)"
      ]
     },
     "execution_count": 18,
     "metadata": {},
     "output_type": "execute_result"
    }
   ],
   "source": [
    "# include 1-grams and 2-grams\n",
    "vect = CountVectorizer(ngram_range=(1, 3))\n",
    "X_train_dtm = vect.fit_transform(X_train)\n",
    "X_train_dtm.shape"
   ]
  },
  {
   "cell_type": "code",
   "execution_count": 19,
   "metadata": {
    "colab": {
     "base_uri": "https://localhost:8080/",
     "height": 54
    },
    "colab_type": "code",
    "executionInfo": {
     "elapsed": 4322,
     "status": "ok",
     "timestamp": 1566987927492,
     "user": {
      "displayName": "Sayan Dey",
      "photoUrl": "https://lh3.googleusercontent.com/a-/AAuE7mC4OsyKqeOJtjScxaIFMB9Yt7ywVtnbSsla3v0-NQ=s64",
      "userId": "03603580465490055794"
     },
     "user_tz": -330
    },
    "id": "DFyXFvMaxDjU",
    "outputId": "c7cfeee2-738f-41a1-875e-31e29c4c5448"
   },
   "outputs": [
    {
     "name": "stdout",
     "output_type": "stream",
     "text": [
      "['zucchini on steady', 'zucchini pieces', 'zucchini pieces amongst', 'zucchini red', 'zucchini red bell', 'zucchini rounds', 'zucchini rounds chicken', 'zucchini shisito', 'zucchini shisito peppers', 'zucchini squash', 'zucchini squash onion', 'zucchini strips', 'zucchini strips appetizer', 'zucchini the', 'zucchini the shisito', 'zucchini the steak', 'zucchini veal', 'zucchini veal demi', 'zucchini very', 'zucchini very good', 'zucchini was', 'zucchini was just', 'zucchini we', 'zucchini we all', 'zucchini with', 'zucchini with no', 'zucchini with some', 'zuccini', 'zuccini italian', 'zuccini italian beef', 'zuccini so', 'zuccini so they', 'zuch', 'zuch and', 'zuch and asparagus', 'zuchinni', 'zuchinni peppers', 'zuchinni peppers it', 'zuchinni the', 'zuchinni the sampler', 'zuchinni wtf', 'zuchinni wtf chopped', 'zuma', 'zuma and', 'zuma and don', 'zuma because', 'zuma because the', 'zuma roka', 'zuma roka group', 'zuma since', 'zuma since started', 'zumba', 'zumba class', 'zumba class and', 'zumba class used', 'zumba or', 'zumba or cycling', 'zumba the', 'zumba the instructor', 'zumba yoga', 'zumba yoga pilates', 'zupa', 'zupa flavors', 'zupa flavors are', 'zur', 'zur kate', 'zur kate good', 'zuzu', 'zuzu has', 'zuzu has an', 'zuzu in', 'zuzu in downtown', 'zuzu is', 'zuzu is at', 'zuzu the', 'zuzu the ultimate', 'zuzu was', 'zuzu was very', 'zuzus', 'zuzus room', 'zuzus room service', 'zweigel', 'zweigel wine', 'zweigel wine from', 'zwiebel', 'zwiebel kräuter', 'zwiebel kräuter salat', 'zy', 'zy world', 'zy world famous', 'zzed', 'zzed in', 'zzed in my', 'zzzzzzzzzzzzzzzzz', 'école', 'école lenôtre', 'école lenôtre trained', 'òc', 'òc châm', 'òc châm sweet']\n"
     ]
    }
   ],
   "source": [
    "# last 50 features\n",
    "print (vect.get_feature_names()[-100:])"
   ]
  },
  {
   "cell_type": "markdown",
   "metadata": {
    "colab_type": "text",
    "id": "scmE2OqXxDjX"
   },
   "source": [
    "**Predicting the star rating:**"
   ]
  },
  {
   "cell_type": "code",
   "execution_count": 20,
   "metadata": {
    "colab": {
     "base_uri": "https://localhost:8080/",
     "height": 50
    },
    "colab_type": "code",
    "executionInfo": {
     "elapsed": 2374,
     "status": "ok",
     "timestamp": 1566987983217,
     "user": {
      "displayName": "Sayan Dey",
      "photoUrl": "https://lh3.googleusercontent.com/a-/AAuE7mC4OsyKqeOJtjScxaIFMB9Yt7ywVtnbSsla3v0-NQ=s64",
      "userId": "03603580465490055794"
     },
     "user_tz": -330
    },
    "id": "QSW-6uskxDjY",
    "outputId": "d1fd75a6-8de7-4b80-a41c-8e2cc82b4d9c"
   },
   "outputs": [
    {
     "name": "stdout",
     "output_type": "stream",
     "text": [
      "0.4712\n",
      "0.4712\n"
     ]
    }
   ],
   "source": [
    "# use default options for CountVectorizer\n",
    "#vect = CountVectorizer()\n",
    "vect = CountVectorizer()\n",
    "# create document-term matrices\n",
    "X_train_dtm = vect.fit_transform(X_train)\n",
    "X_test_dtm = vect.transform(X_test)\n",
    "\n",
    "# use Naive Bayes to predict the star rating\n",
    "nb = MultinomialNB()\n",
    "nb.fit(X_train_dtm, y_train)\n",
    "y_pred_class = nb.predict(X_test_dtm)\n",
    "\n",
    "# calculate accuracy\n",
    "print (metrics.accuracy_score(y_test, y_pred_class))\n",
    "print(nb.score(X_test_dtm,y_test))"
   ]
  },
  {
   "cell_type": "code",
   "execution_count": 21,
   "metadata": {},
   "outputs": [
    {
     "name": "stdout",
     "output_type": "stream",
     "text": [
      "0.4712\n",
      "0.4712\n"
     ]
    }
   ],
   "source": [
    "# use default options for CountVectorizer\n",
    "#vect = CountVectorizer()\n",
    "from sklearn.linear_model import LogisticRegression\n",
    "vect = CountVectorizer()\n",
    "# create document-term matrices\n",
    "X_train_dtm = vect.fit_transform(X_train)\n",
    "X_test_dtm = vect.transform(X_test)\n",
    "\n",
    "# use Naive Bayes to predict the star rating\n",
    "nb = MultinomialNB()\n",
    "nb.fit(X_train_dtm, y_train)\n",
    "y_pred_class = nb.predict(X_test_dtm)\n",
    "\n",
    "# calculate accuracy\n",
    "print (metrics.accuracy_score(y_test, y_pred_class))\n",
    "print(nb.score(X_test_dtm,y_test))"
   ]
  },
  {
   "cell_type": "code",
   "execution_count": 22,
   "metadata": {
    "scrolled": true
   },
   "outputs": [
    {
     "data": {
      "text/plain": [
       "9953    \"Hipster,Trendy\" ????-I think NOT !!!! Very di...\n",
       "3850    My husband & I have been going to one Zipp's o...\n",
       "4962    Perfect place for a hot summer day.  Amazing p...\n",
       "3886    I personally like this Fry's. I think most of ...\n",
       "5437    Successfully blending the idea of bar food and...\n",
       "                              ...                        \n",
       "6955    The Service is great.  The food is ok.  The sa...\n",
       "557     Good drinks, great food, and cool music. There...\n",
       "2455    Haji-Baba is unique by being both a restaurant...\n",
       "3920    My husband and I loved it.  The food was delic...\n",
       "6405    So i'm not here to buy spices or shop for shee...\n",
       "Name: text, Length: 2500, dtype: object"
      ]
     },
     "execution_count": 22,
     "metadata": {},
     "output_type": "execute_result"
    }
   ],
   "source": [
    "X_test"
   ]
  },
  {
   "cell_type": "code",
   "execution_count": 23,
   "metadata": {},
   "outputs": [
    {
     "data": {
      "text/plain": [
       "array([[7.07713376e-05, 1.31392768e-02, 4.18069724e-02, 9.41057071e-01,\n",
       "        3.92590829e-03],\n",
       "       [4.71804306e-22, 9.61444165e-13, 7.25375413e-06, 7.10342456e-01,\n",
       "        2.89650290e-01],\n",
       "       [8.90517685e-09, 4.04108559e-07, 9.91633806e-04, 1.88280984e-01,\n",
       "        8.10726969e-01],\n",
       "       ...,\n",
       "       [3.24138524e-15, 1.88863063e-09, 6.97775908e-04, 9.90164027e-01,\n",
       "        9.13819544e-03],\n",
       "       [6.70973612e-09, 2.33005016e-07, 3.97013603e-06, 2.55207386e-01,\n",
       "        7.44788404e-01],\n",
       "       [5.49292292e-41, 2.76175489e-27, 1.91898561e-09, 9.48516811e-01,\n",
       "        5.14831871e-02]])"
      ]
     },
     "execution_count": 23,
     "metadata": {},
     "output_type": "execute_result"
    }
   ],
   "source": [
    "nb.predict_proba(X_test_dtm)"
   ]
  },
  {
   "cell_type": "code",
   "execution_count": 24,
   "metadata": {
    "scrolled": true
   },
   "outputs": [
    {
     "data": {
      "text/plain": [
       "array([4, 4, 5, ..., 4, 5, 4], dtype=int64)"
      ]
     },
     "execution_count": 24,
     "metadata": {},
     "output_type": "execute_result"
    }
   ],
   "source": [
    "nb.predict(X_test_dtm)"
   ]
  },
  {
   "cell_type": "code",
   "execution_count": 25,
   "metadata": {
    "scrolled": true
   },
   "outputs": [
    {
     "data": {
      "text/plain": [
       "9953    \"Hipster,Trendy\" ????-I think NOT !!!! Very di...\n",
       "3850    My husband & I have been going to one Zipp's o...\n",
       "4962    Perfect place for a hot summer day.  Amazing p...\n",
       "3886    I personally like this Fry's. I think most of ...\n",
       "5437    Successfully blending the idea of bar food and...\n",
       "                              ...                        \n",
       "6955    The Service is great.  The food is ok.  The sa...\n",
       "557     Good drinks, great food, and cool music. There...\n",
       "2455    Haji-Baba is unique by being both a restaurant...\n",
       "3920    My husband and I loved it.  The food was delic...\n",
       "6405    So i'm not here to buy spices or shop for shee...\n",
       "Name: text, Length: 2500, dtype: object"
      ]
     },
     "execution_count": 25,
     "metadata": {},
     "output_type": "execute_result"
    }
   ],
   "source": [
    "X_test"
   ]
  },
  {
   "cell_type": "code",
   "execution_count": 26,
   "metadata": {},
   "outputs": [
    {
     "name": "stdout",
     "output_type": "stream",
     "text": [
      "[[ 55  14  24  65  27]\n",
      " [ 28  16  41 122  27]\n",
      " [  5   7  35 281  37]\n",
      " [  7   0  16 629 232]\n",
      " [  6   4   6 373 443]]\n",
      "              precision    recall  f1-score   support\n",
      "\n",
      "           1       0.54      0.30      0.38       185\n",
      "           2       0.39      0.07      0.12       234\n",
      "           3       0.29      0.10      0.14       365\n",
      "           4       0.43      0.71      0.53       884\n",
      "           5       0.58      0.53      0.55       832\n",
      "\n",
      "    accuracy                           0.47      2500\n",
      "   macro avg       0.45      0.34      0.35      2500\n",
      "weighted avg       0.46      0.47      0.43      2500\n",
      "\n"
     ]
    }
   ],
   "source": [
    "predicted = nb.predict(X_test_dtm)\n",
    "from sklearn.metrics import confusion_matrix,classification_report\n",
    "print(confusion_matrix(y_test,predicted))\n",
    "print(classification_report(y_test,predicted))"
   ]
  },
  {
   "cell_type": "code",
   "execution_count": 49,
   "metadata": {
    "colab": {
     "base_uri": "https://localhost:8080/",
     "height": 34
    },
    "colab_type": "code",
    "executionInfo": {
     "elapsed": 2147,
     "status": "ok",
     "timestamp": 1566987983220,
     "user": {
      "displayName": "Sayan Dey",
      "photoUrl": "https://lh3.googleusercontent.com/a-/AAuE7mC4OsyKqeOJtjScxaIFMB9Yt7ywVtnbSsla3v0-NQ=s64",
      "userId": "03603580465490055794"
     },
     "user_tz": -330
    },
    "id": "sr02Zzk1xDjf",
    "outputId": "6d6c2410-2a6b-435a-9129-50fdefa75fb3"
   },
   "outputs": [
    {
     "data": {
      "text/plain": [
       "0.8199608610567515"
      ]
     },
     "execution_count": 49,
     "metadata": {},
     "output_type": "execute_result"
    }
   ],
   "source": [
    "# calculate null accuracy\n",
    "y_test_binary = np.where(y_test==5, 1, 0)\n",
    "max(y_test_binary.mean(), 1 - y_test_binary.mean())"
   ]
  },
  {
   "cell_type": "code",
   "execution_count": 64,
   "metadata": {
    "colab": {},
    "colab_type": "code",
    "id": "E-Yt-TbixDjj"
   },
   "outputs": [],
   "source": [
    "# define a function that accepts a vectorizer and calculates the accuracy\n",
    "def tokenize_test(vect):\n",
    "    X_train_dtm = vect.fit_transform(X_train)\n",
    "    print ('Features: ', X_train_dtm.shape[1])\n",
    "    X_test_dtm = vect.transform(X_test)\n",
    "    nb = MultinomialNB()\n",
    "    nb.fit(X_train_dtm, y_train)\n",
    "    y_pred_class = nb.predict(X_test_dtm)\n",
    "    print(\"Training Accuracy\")\n",
    "    print(nb.score(X_train_dtm,y_train))\n",
    "    print(\"Testing Accuracy\")\n",
    "    print(nb.score(X_test_dtm,y_test))"
   ]
  },
  {
   "cell_type": "code",
   "execution_count": 65,
   "metadata": {
    "colab": {
     "base_uri": "https://localhost:8080/",
     "height": 101
    },
    "colab_type": "code",
    "executionInfo": {
     "elapsed": 1434,
     "status": "ok",
     "timestamp": 1566988017780,
     "user": {
      "displayName": "Sayan Dey",
      "photoUrl": "https://lh3.googleusercontent.com/a-/AAuE7mC4OsyKqeOJtjScxaIFMB9Yt7ywVtnbSsla3v0-NQ=s64",
      "userId": "03603580465490055794"
     },
     "user_tz": -330
    },
    "id": "Be4xu0gSxDjr",
    "outputId": "2ae64520-fbef-4de1-9890-37dbb989e2f2"
   },
   "outputs": [
    {
     "name": "stdout",
     "output_type": "stream",
     "text": [
      "Features:  25797\n",
      "Training Accuracy\n",
      "0.7801333333333333\n",
      "Testing Accuracy\n",
      "0.4712\n"
     ]
    }
   ],
   "source": [
    "# include 1-grams and 2-grams\n",
    "vect = CountVectorizer(ngram_range=(1, 1))\n",
    "tokenize_test(vect)"
   ]
  },
  {
   "cell_type": "markdown",
   "metadata": {
    "colab_type": "text",
    "id": "uvMSacDnxDj0"
   },
   "source": [
    "## 3: Stopword Removal"
   ]
  },
  {
   "cell_type": "markdown",
   "metadata": {
    "colab_type": "text",
    "id": "qd3Jr8UixDj8"
   },
   "source": [
    "- **What:** Remove common words that will likely appear in any text\n",
    "- **Why:** They don't tell you much about your text"
   ]
  },
  {
   "cell_type": "code",
   "execution_count": 37,
   "metadata": {
    "colab": {
     "base_uri": "https://localhost:8080/",
     "height": 118
    },
    "colab_type": "code",
    "executionInfo": {
     "elapsed": 1190,
     "status": "ok",
     "timestamp": 1566988189560,
     "user": {
      "displayName": "Sayan Dey",
      "photoUrl": "https://lh3.googleusercontent.com/a-/AAuE7mC4OsyKqeOJtjScxaIFMB9Yt7ywVtnbSsla3v0-NQ=s64",
      "userId": "03603580465490055794"
     },
     "user_tz": -330
    },
    "id": "yKYeZ9zSxDj9",
    "outputId": "16fc58e8-e8b3-4a9c-aad4-4e083f39925a"
   },
   "outputs": [
    {
     "data": {
      "text/plain": [
       "CountVectorizer(analyzer='word', binary=False, decode_error='strict',\n",
       "        dtype=<class 'numpy.int64'>, encoding='utf-8', input='content',\n",
       "        lowercase=True, max_df=1.0, max_features=None, min_df=1,\n",
       "        ngram_range=(1, 1), preprocessor=None, stop_words=None,\n",
       "        strip_accents=None, token_pattern='(?u)\\\\b\\\\w\\\\w+\\\\b',\n",
       "        tokenizer=None, vocabulary=None)"
      ]
     },
     "execution_count": 37,
     "metadata": {},
     "output_type": "execute_result"
    }
   ],
   "source": [
    "# show vectorizer options\n",
    "vect"
   ]
  },
  {
   "cell_type": "markdown",
   "metadata": {
    "colab_type": "text",
    "id": "xIy8zBDixDkB"
   },
   "source": [
    "- **stop_words:** string {'english'}, list, or None (default)\n",
    "- If 'english', a built-in stop word list for English is used.\n",
    "- If a list, that list is assumed to contain stop words, all of which will be removed from the resulting tokens.\n",
    "- If None, no stop words will be used. max_df can be set to a value in the range [0.7, 1.0) to automatically detect and filter stop words based on intra corpus document frequency of terms."
   ]
  },
  {
   "cell_type": "code",
   "execution_count": 38,
   "metadata": {
    "colab": {},
    "colab_type": "code",
    "id": "7zNS0BGuxDkD"
   },
   "outputs": [],
   "source": [
    "vect = CountVectorizer(stop_words='english')"
   ]
  },
  {
   "cell_type": "code",
   "execution_count": 39,
   "metadata": {
    "colab": {
     "base_uri": "https://localhost:8080/",
     "height": 54
    },
    "colab_type": "code",
    "executionInfo": {
     "elapsed": 922,
     "status": "ok",
     "timestamp": 1566988189952,
     "user": {
      "displayName": "Sayan Dey",
      "photoUrl": "https://lh3.googleusercontent.com/a-/AAuE7mC4OsyKqeOJtjScxaIFMB9Yt7ywVtnbSsla3v0-NQ=s64",
      "userId": "03603580465490055794"
     },
     "user_tz": -330
    },
    "id": "Uat0cmfjxDkG",
    "outputId": "160b0497-5833-4dd6-e838-8e97c155418b"
   },
   "outputs": [
    {
     "name": "stdout",
     "output_type": "stream",
     "text": [
      "frozenset({'formerly', 'done', 'whoever', 'toward', 'more', 'much', 'and', 'nothing', 'yet', 'he', 'on', 'only', 'now', 'beside', 'against', 'has', 'the', 'many', 'found', 'bill', 'ourselves', 'yourself', 'over', 'that', 'is', 'almost', 'whence', 'another', 'eleven', 'alone', 'ltd', 'even', 'thereafter', 'give', 'hereby', 'rather', 'should', 'whenever', 'who', 'our', 'six', 'behind', 'being', 'full', 'must', 'nevertheless', 'still', 'three', 'front', 'below', 'hence', 'been', 'fill', 'any', 'can', 'seeming', 'then', 'etc', 'eight', 'empty', 'except', 'beyond', 'anyone', 'first', 'somehow', 'me', 'whereas', 'noone', 'own', 'two', 'their', 'him', 'do', 'however', 'by', 'sixty', 'few', 'mostly', 'else', 'per', 'whereby', 'whole', 'whatever', 'hasnt', 'whom', 'these', 'those', 'thereby', 'con', 'never', 'top', 'keep', 'yourselves', 'could', 'well', 'same', 'into', 'thru', 'call', 'therein', 'this', 'we', 'my', 'anywhere', 'interest', 'couldnt', 'thereupon', 'put', 'out', 'hereupon', 'for', 'beforehand', 'less', 'several', 'somewhere', 'themselves', 'before', 'would', 'take', 'ours', 'elsewhere', 'anything', 'onto', 'which', 'until', 'system', 'also', 'indeed', 'fifteen', 'about', 'part', 'around', 'whereafter', 'mill', 'are', 'eg', 'her', 'through', 'neither', 'amoungst', 'inc', 'cannot', 'former', 'have', 'last', 'five', 'meanwhile', 'twenty', 'anyway', 'none', 'serious', 'every', 'besides', 'seemed', 'third', 'sincere', 'see', 'am', 'all', 'someone', 'were', 'sometime', 'describe', 'than', 'once', 'perhaps', 'name', 'an', 'made', 'anyhow', 'both', 'sometimes', 'other', 'together', 'with', 'became', 'afterwards', 'between', 'cry', 'mine', 'what', 'wherever', 'down', 'under', 'as', 'four', 'bottom', 'it', 'ten', 'thick', 'seem', 'no', 'each', 'thus', 'not', 'after', 'up', 'twelve', 'nowhere', 'forty', 'amount', 'via', 'show', 'throughout', 'they', 'fifty', 'becomes', 'de', 'since', 'something', 'amongst', 'next', 'most', 'become', 'either', 'back', 'himself', 'find', 'from', 'ie', 'be', 'because', 'everyone', 'during', 'whereupon', 'here', 'always', 'while', 'enough', 'hundred', 'further', 'some', 'without', 'or', 'across', 'latterly', 'everything', 'wherein', 'everywhere', 'them', 'namely', 'already', 'moreover', 'may', 'though', 'too', 'its', 'very', 'nobody', 'you', 'un', 'hers', 'often', 'others', 'co', 'myself', 'get', 'among', 'your', 'she', 'go', 'due', 'yours', 'side', 'in', 'again', 'whether', 'within', 'fire', 'hereafter', 'seems', 'i', 'whose', 'will', 'herein', 'us', 'itself', 'cant', 'how', 'detail', 'ever', 'otherwise', 'thence', 'least', 'might', 'latter', 'thin', 'herself', 'move', 'if', 'of', 'above', 'when', 'a', 'so', 'to', 'such', 'why', 'off', 'but', 'where', 'one', 'whither', 'was', 'although', 'at', 'please', 'upon', 'towards', 'his', 'nor', 'had', 're', 'becoming', 'therefore', 'along', 'nine', 'there'})\n"
     ]
    }
   ],
   "source": [
    "# set of stop words\n",
    "print(vect.get_stop_words())"
   ]
  },
  {
   "cell_type": "code",
   "execution_count": 40,
   "metadata": {
    "colab": {
     "base_uri": "https://localhost:8080/",
     "height": 101
    },
    "colab_type": "code",
    "executionInfo": {
     "elapsed": 1351,
     "status": "ok",
     "timestamp": 1566988190761,
     "user": {
      "displayName": "Sayan Dey",
      "photoUrl": "https://lh3.googleusercontent.com/a-/AAuE7mC4OsyKqeOJtjScxaIFMB9Yt7ywVtnbSsla3v0-NQ=s64",
      "userId": "03603580465490055794"
     },
     "user_tz": -330
    },
    "id": "jWcp1mxTxDkL",
    "outputId": "fae76291-3695-4613-9963-e78387b063ad"
   },
   "outputs": [
    {
     "name": "stdout",
     "output_type": "stream",
     "text": [
      "Features:  16528\n",
      "Training Accuracy\n",
      "0.9758485639686684\n",
      "Testing Accuracy\n",
      "0.9158512720156555\n"
     ]
    }
   ],
   "source": [
    "# remove English stop words\n",
    "vect = CountVectorizer(stop_words='english')\n",
    "tokenize_test(vect)"
   ]
  },
  {
   "cell_type": "code",
   "execution_count": 41,
   "metadata": {
    "colab": {
     "base_uri": "https://localhost:8080/",
     "height": 50
    },
    "colab_type": "code",
    "executionInfo": {
     "elapsed": 1298,
     "status": "ok",
     "timestamp": 1566988192295,
     "user": {
      "displayName": "Sayan Dey",
      "photoUrl": "https://lh3.googleusercontent.com/a-/AAuE7mC4OsyKqeOJtjScxaIFMB9Yt7ywVtnbSsla3v0-NQ=s64",
      "userId": "03603580465490055794"
     },
     "user_tz": -330
    },
    "id": "2PVNtmb9xDkO",
    "outputId": "a8598e9b-96b8-492b-befa-3289d3ccd812"
   },
   "outputs": [
    {
     "data": {
      "text/plain": [
       "<3064x16825 sparse matrix of type '<class 'numpy.int64'>'\n",
       "\twith 237720 stored elements in Compressed Sparse Row format>"
      ]
     },
     "execution_count": 41,
     "metadata": {},
     "output_type": "execute_result"
    }
   ],
   "source": [
    "# without stopwords, dtm size\n",
    "vect = CountVectorizer()\n",
    "vect.fit_transform(X_train)"
   ]
  },
  {
   "cell_type": "code",
   "execution_count": 42,
   "metadata": {
    "colab": {
     "base_uri": "https://localhost:8080/",
     "height": 50
    },
    "colab_type": "code",
    "executionInfo": {
     "elapsed": 1091,
     "status": "ok",
     "timestamp": 1566988192620,
     "user": {
      "displayName": "Sayan Dey",
      "photoUrl": "https://lh3.googleusercontent.com/a-/AAuE7mC4OsyKqeOJtjScxaIFMB9Yt7ywVtnbSsla3v0-NQ=s64",
      "userId": "03603580465490055794"
     },
     "user_tz": -330
    },
    "id": "UPnvz_wGxDkR",
    "outputId": "6893b9c2-5d35-4bf6-ca1e-00d048eef9d7"
   },
   "outputs": [
    {
     "data": {
      "text/plain": [
       "<3064x16528 sparse matrix of type '<class 'numpy.int64'>'\n",
       "\twith 143743 stored elements in Compressed Sparse Row format>"
      ]
     },
     "execution_count": 42,
     "metadata": {},
     "output_type": "execute_result"
    }
   ],
   "source": [
    "# with stopwords, dtm size\n",
    "vect = CountVectorizer(stop_words='english')\n",
    "vect.fit_transform(X_train)"
   ]
  },
  {
   "cell_type": "code",
   "execution_count": 43,
   "metadata": {
    "colab": {},
    "colab_type": "code",
    "id": "whTgXgg7xDkU"
   },
   "outputs": [],
   "source": [
    "my_additional_stop_words = ['abcd']\n",
    "\n",
    "from sklearn.feature_extraction import text \n",
    "stop_words = text.ENGLISH_STOP_WORDS.union(my_additional_stop_words)"
   ]
  },
  {
   "cell_type": "code",
   "execution_count": 44,
   "metadata": {
    "colab": {
     "base_uri": "https://localhost:8080/",
     "height": 50
    },
    "colab_type": "code",
    "executionInfo": {
     "elapsed": 866,
     "status": "ok",
     "timestamp": 1566988201235,
     "user": {
      "displayName": "Sayan Dey",
      "photoUrl": "https://lh3.googleusercontent.com/a-/AAuE7mC4OsyKqeOJtjScxaIFMB9Yt7ywVtnbSsla3v0-NQ=s64",
      "userId": "03603580465490055794"
     },
     "user_tz": -330
    },
    "id": "FnrUsGUYxDkX",
    "outputId": "58296677-8dfd-4ad2-9e0d-11f77a8337e2"
   },
   "outputs": [
    {
     "data": {
      "text/plain": [
       "<3064x16528 sparse matrix of type '<class 'numpy.int64'>'\n",
       "\twith 143743 stored elements in Compressed Sparse Row format>"
      ]
     },
     "execution_count": 44,
     "metadata": {},
     "output_type": "execute_result"
    }
   ],
   "source": [
    "# with stopwords, dtm size\n",
    "vect = CountVectorizer(stop_words=stop_words)\n",
    "vect.fit_transform(X_train)"
   ]
  },
  {
   "cell_type": "code",
   "execution_count": 45,
   "metadata": {
    "colab": {
     "base_uri": "https://localhost:8080/",
     "height": 101
    },
    "colab_type": "code",
    "executionInfo": {
     "elapsed": 939,
     "status": "ok",
     "timestamp": 1566988203399,
     "user": {
      "displayName": "Sayan Dey",
      "photoUrl": "https://lh3.googleusercontent.com/a-/AAuE7mC4OsyKqeOJtjScxaIFMB9Yt7ywVtnbSsla3v0-NQ=s64",
      "userId": "03603580465490055794"
     },
     "user_tz": -330
    },
    "id": "DlZv5aWaxDkb",
    "outputId": "5c7da87f-c337-44a9-fe6e-c504c5c7adf0"
   },
   "outputs": [
    {
     "name": "stdout",
     "output_type": "stream",
     "text": [
      "Features:  16528\n",
      "Training Accuracy\n",
      "0.9758485639686684\n",
      "Testing Accuracy\n",
      "0.9158512720156555\n"
     ]
    }
   ],
   "source": [
    "# remove updated stop words \n",
    "vect = CountVectorizer(stop_words=stop_words)\n",
    "tokenize_test(vect)"
   ]
  },
  {
   "cell_type": "markdown",
   "metadata": {
    "colab_type": "text",
    "id": "un-jPPn8xDke"
   },
   "source": [
    "## 4: Other CountVectorizer Options"
   ]
  },
  {
   "cell_type": "markdown",
   "metadata": {
    "colab_type": "text",
    "id": "pG4ykptzxDkf"
   },
   "source": [
    "- **max_features:** int or None, default=None\n",
    "- If not None, build a vocabulary that only consider the top max_features ordered by term frequency across the corpus."
   ]
  },
  {
   "cell_type": "code",
   "execution_count": 46,
   "metadata": {
    "colab": {
     "base_uri": "https://localhost:8080/",
     "height": 101
    },
    "colab_type": "code",
    "executionInfo": {
     "elapsed": 2646,
     "status": "ok",
     "timestamp": 1566988226533,
     "user": {
      "displayName": "Sayan Dey",
      "photoUrl": "https://lh3.googleusercontent.com/a-/AAuE7mC4OsyKqeOJtjScxaIFMB9Yt7ywVtnbSsla3v0-NQ=s64",
      "userId": "03603580465490055794"
     },
     "user_tz": -330
    },
    "id": "hMc0KdA1xDkg",
    "outputId": "8bea6fcf-738b-48d9-9104-275156f1bbe2"
   },
   "outputs": [
    {
     "name": "stdout",
     "output_type": "stream",
     "text": [
      "Features:  1\n",
      "Training Accuracy\n",
      "0.8156005221932114\n",
      "Testing Accuracy\n",
      "0.8199608610567515\n"
     ]
    }
   ],
   "source": [
    "# remove English stop words and only keep 100 features\n",
    "vect = CountVectorizer(stop_words='english', max_features=1)\n",
    "tokenize_test(vect)"
   ]
  },
  {
   "cell_type": "code",
   "execution_count": 47,
   "metadata": {
    "colab": {
     "base_uri": "https://localhost:8080/",
     "height": 34
    },
    "colab_type": "code",
    "executionInfo": {
     "elapsed": 962,
     "status": "ok",
     "timestamp": 1566988245449,
     "user": {
      "displayName": "Sayan Dey",
      "photoUrl": "https://lh3.googleusercontent.com/a-/AAuE7mC4OsyKqeOJtjScxaIFMB9Yt7ywVtnbSsla3v0-NQ=s64",
      "userId": "03603580465490055794"
     },
     "user_tz": -330
    },
    "id": "uit2ovcSxDkk",
    "outputId": "836c58cd-0535-42bc-9ac3-2de708d4a468"
   },
   "outputs": [
    {
     "name": "stdout",
     "output_type": "stream",
     "text": [
      "['place']\n"
     ]
    }
   ],
   "source": [
    "# all 100 features\n",
    "print (vect.get_feature_names())"
   ]
  },
  {
   "cell_type": "code",
   "execution_count": 48,
   "metadata": {
    "colab": {
     "base_uri": "https://localhost:8080/",
     "height": 101
    },
    "colab_type": "code",
    "executionInfo": {
     "elapsed": 7599,
     "status": "ok",
     "timestamp": 1566988253791,
     "user": {
      "displayName": "Sayan Dey",
      "photoUrl": "https://lh3.googleusercontent.com/a-/AAuE7mC4OsyKqeOJtjScxaIFMB9Yt7ywVtnbSsla3v0-NQ=s64",
      "userId": "03603580465490055794"
     },
     "user_tz": -330
    },
    "id": "fpQDvZOQxDkt",
    "outputId": "db9f270c-5119-4c45-b014-6a0ffa9e900d"
   },
   "outputs": [
    {
     "name": "stdout",
     "output_type": "stream",
     "text": [
      "Features:  70000\n",
      "Training Accuracy\n",
      "0.9918407310704961\n",
      "Testing Accuracy\n",
      "0.9246575342465754\n"
     ]
    }
   ],
   "source": [
    "# include 1-grams and 2-grams, and limit the number of features\n",
    "vect = CountVectorizer(ngram_range=(1, 5), max_features=70000)\n",
    "tokenize_test(vect)"
   ]
  },
  {
   "cell_type": "markdown",
   "metadata": {
    "colab_type": "text",
    "id": "w-Tcy87WxDkx"
   },
   "source": [
    "- **min_df:** float in range [0.0, 1.0] or int, default=1\n",
    "- When building the vocabulary ignore terms that have a document frequency strictly lower than the given threshold. This value is also called cut-off in the literature. If float, the parameter represents a proportion of documents, integer absolute counts."
   ]
  },
  {
   "cell_type": "code",
   "execution_count": 49,
   "metadata": {
    "colab": {
     "base_uri": "https://localhost:8080/",
     "height": 101
    },
    "colab_type": "code",
    "executionInfo": {
     "elapsed": 3489,
     "status": "ok",
     "timestamp": 1566988583433,
     "user": {
      "displayName": "Sayan Dey",
      "photoUrl": "https://lh3.googleusercontent.com/a-/AAuE7mC4OsyKqeOJtjScxaIFMB9Yt7ywVtnbSsla3v0-NQ=s64",
      "userId": "03603580465490055794"
     },
     "user_tz": -330
    },
    "id": "rmaqXGfLxDky",
    "outputId": "4b7549a3-4a39-4372-dd5a-dc5d57c5a460"
   },
   "outputs": [
    {
     "name": "stdout",
     "output_type": "stream",
     "text": [
      "Features:  43957\n",
      "Training Accuracy\n",
      "0.9895561357702349\n",
      "Testing Accuracy\n",
      "0.9324853228962818\n"
     ]
    }
   ],
   "source": [
    "# include 1-grams and 2-grams, and only include terms that appear at least 2 times\n",
    "vect = CountVectorizer(ngram_range=(1, 2), min_df=2)\n",
    "tokenize_test(vect)"
   ]
  },
  {
   "cell_type": "code",
   "execution_count": 50,
   "metadata": {
    "colab": {
     "base_uri": "https://localhost:8080/",
     "height": 101
    },
    "colab_type": "code",
    "executionInfo": {
     "elapsed": 9000,
     "status": "ok",
     "timestamp": 1566988589434,
     "user": {
      "displayName": "Sayan Dey",
      "photoUrl": "https://lh3.googleusercontent.com/a-/AAuE7mC4OsyKqeOJtjScxaIFMB9Yt7ywVtnbSsla3v0-NQ=s64",
      "userId": "03603580465490055794"
     },
     "user_tz": -330
    },
    "id": "Awi8wo9X1Oad",
    "outputId": "ee71887b-a763-4eca-8556-dd29b10c74e5"
   },
   "outputs": [
    {
     "name": "stdout",
     "output_type": "stream",
     "text": [
      "Features:  76347\n",
      "Training Accuracy\n",
      "0.9924934725848564\n",
      "Testing Accuracy\n",
      "0.9246575342465754\n"
     ]
    }
   ],
   "source": [
    "vect = CountVectorizer(ngram_range=(1, 5), min_df=2)\n",
    "tokenize_test(vect)"
   ]
  }
 ],
 "metadata": {
  "accelerator": "GPU",
  "colab": {
   "collapsed_sections": [],
   "name": "3. Text Classification With Advanced ML.ipynb",
   "provenance": [],
   "version": "0.3.2"
  },
  "kernelspec": {
   "display_name": "Python 3",
   "language": "python",
   "name": "python3"
  },
  "language_info": {
   "codemirror_mode": {
    "name": "ipython",
    "version": 3
   },
   "file_extension": ".py",
   "mimetype": "text/x-python",
   "name": "python",
   "nbconvert_exporter": "python",
   "pygments_lexer": "ipython3",
   "version": "3.7.7"
  }
 },
 "nbformat": 4,
 "nbformat_minor": 1
}
