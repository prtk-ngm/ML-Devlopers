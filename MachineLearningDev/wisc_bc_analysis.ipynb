{
 "cells": [
  {
   "cell_type": "code",
   "execution_count": 1,
   "id": "9781ecc2",
   "metadata": {},
   "outputs": [],
   "source": [
    "# To enable plotting graphs in Jupyter notebook\n",
    "%matplotlib inline \n",
    "import warnings\n",
    "warnings.simplefilter('ignore')\n",
    "import numpy as np\n",
    "import pandas as pd\n",
    "from sklearn.model_selection import train_test_split\n",
    "from sklearn.neighbors import KNeighborsClassifier\n",
    "from sklearn.tree import DecisionTreeClassifier\n",
    "import seaborn as sns\n",
    "from sklearn.preprocessing import StandardScaler\n",
    "from sklearn.metrics import confusion_matrix,classification_report,precision_score,recall_score,f1_score\n"
   ]
  },
  {
   "cell_type": "code",
   "execution_count": 2,
   "id": "e969da68",
   "metadata": {},
   "outputs": [
    {
     "name": "stdout",
     "output_type": "stream",
     "text": [
      "{'id': 0.013472884788102824, 'diagnosis': 0.0, 'radius_mean': 0.0, 'texture_mean': 0.006659246512732047, 'perimeter_mean': 0.007379401422266072, 'area_mean': 0.0, 'smoothness_mean': 0.0, 'compactness_mean': 0.0, 'concavity_mean': 0.0, 'points_mean': 0.0, 'symmetry_mean': 0.0, 'dimension_mean': 0.008887934759868755, 'radius_se': 0.010948134150468941, 'texture_se': 0.029570548584091312, 'perimeter_se': 0.0, 'area_se': 0.0, 'smoothness_se': 0.0, 'compactness_se': 0.0, 'concavity_se': 0.0, 'points_se': 0.023762713057667247, 'symmetry_se': 0.0, 'dimension_se': 0.05690144222889102, 'radius_worst': 0.6858889407411874, 'texture_worst': 0.004490352571540682, 'perimeter_worst': 0.057730385836976754, 'area_worst': 0.0, 'smoothness_worst': 0.0, 'compactness_worst': 0.07702027407699044, 'concavity_worst': 0.01728774126921626, 'points_worst': 0.0}\n"
     ]
    }
   ],
   "source": [
    "demo = pd.read_csv(\"data/wisc_bc_data.csv\")\n",
    "#sns.pairplot(demo,hue = 'diagnosis',diag_kind='kde')\n",
    "\n",
    "X=demo.drop(['diagnosis','id'],axis=1)\n",
    "y=demo['diagnosis']\n",
    "\n",
    "X.head()\n",
    "dtc = DecisionTreeClassifier(criterion = \"entropy\")\n",
    "dtc.fit(X,y)\n",
    "\n",
    "print(dict(zip(demo.columns, dtc.feature_importances_)))\n"
   ]
  },
  {
   "cell_type": "code",
   "execution_count": null,
   "id": "bc17e083",
   "metadata": {},
   "outputs": [],
   "source": [
    "from sklearn import metrics\n",
    "from sklearn.metrics import accuracy_score\n",
    "from sklearn.tree import DecisionTreeClassifier\n",
    "from sklearn.metrics import confusion_matrix,classification_report,precision_score,f1_score\n",
    "clf = DecisionTreeClassifier(criterion = \"entropy\" , max_depth=4, random_state=1)\n",
    "\n",
    "clf.fit(X_train, y_train)\n",
    "\n",
    "print(\"What is training accuracy?\")\n",
    "print(clf.score(X_train, y_train))\n",
    "print(\"What is testing accuracy?\")\n",
    "print(clf.score(X_test, y_test))\n",
    "\n",
    "predicted = clf.predict(X_test)\n",
    "\n",
    "print(\"Confusion metrix\")\n",
    "print(confusion_matrix(y_test,predicted))\n",
    "print(classification_report(y_test,predicted))\n",
    "\n",
    "print(precision_score(y_test,predicted,average = None))\n",
    "print(f1_score(y_test,predicted,average = None))"
   ]
  },
  {
   "cell_type": "code",
   "execution_count": null,
   "id": "b3e5af80",
   "metadata": {},
   "outputs": [],
   "source": []
  },
  {
   "cell_type": "code",
   "execution_count": null,
   "id": "1cb864b1",
   "metadata": {},
   "outputs": [],
   "source": []
  }
 ],
 "metadata": {
  "kernelspec": {
   "display_name": "Python 3",
   "language": "python",
   "name": "python3"
  },
  "language_info": {
   "codemirror_mode": {
    "name": "ipython",
    "version": 3
   },
   "file_extension": ".py",
   "mimetype": "text/x-python",
   "name": "python",
   "nbconvert_exporter": "python",
   "pygments_lexer": "ipython3",
   "version": "3.7.7"
  }
 },
 "nbformat": 4,
 "nbformat_minor": 5
}
